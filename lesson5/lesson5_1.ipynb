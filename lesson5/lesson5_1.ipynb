{
 "cells": [
  {
   "cell_type": "code",
   "execution_count": 1,
   "metadata": {},
   "outputs": [
    {
     "name": "stdout",
     "output_type": "stream",
     "text": [
      "YouBike即時資訊下載完成！\n"
     ]
    }
   ],
   "source": [
    "import requests\n",
    "\n",
    "url = 'https://tcgbusfs.blob.core.windows.net/dotapp/youbike/v2/youbike_immediate.json'\n",
    "\n",
    "try:\n",
    "    response = requests.get(url)\n",
    "    response.raise_for_status()  # 檢查HTTP狀態碼，確保請求成功\n",
    "\n",
    "    data = response.json()  # 將JSON格式的資料轉換為Python字典\n",
    "\n",
    "    print('YouBike即時資訊下載完成！')\n",
    "\n",
    "except requests.exceptions.RequestException as e:\n",
    "    print(f'下載YouBike即時資訊時發生錯誤：{e}')\n"
   ]
  },
  {
   "cell_type": "code",
   "execution_count": 2,
   "metadata": {},
   "outputs": [
    {
     "name": "stdout",
     "output_type": "stream",
     "text": [
      "{'sno': '500101020', 'sna': 'YouBike2.0_溫州停車場', 'sarea': '大安區', 'mday': '2024-11-01 03:48:14', 'ar': '新生南路三段54巷/溫州街口', 'sareaen': 'Daan Dist.', 'snaen': 'YouBike2.0_Wenzhou Parking Lot', 'aren': 'Ln. 54， Sec. 3， Xinsheng S. Rd. & Wenzhou St. Intersection', 'act': '0', 'srcUpdateTime': '2025-02-15 10:04:21', 'updateTime': '2025-02-15 10:04:52', 'infoTime': '2024-11-01 03:48:14', 'infoDate': '2024-11-01', 'total': 5, 'available_rent_bikes': 0, 'latitude': 25.02093, 'longitude': 121.5331, 'available_return_bikes': 5}\n",
      "{'sno': '500101107', 'sna': 'YouBike2.0_和平龍泉街口', 'sarea': '大安區', 'mday': '2025-02-15 09:35:18', 'ar': '和平東路一段/龍泉街口西南側', 'sareaen': 'Daan Dist.', 'snaen': 'YouBike2.0_Sec. 1， Heping E. Rd & Longquan St. Intersection', 'aren': 'Sec. 1， Heping E. Rd & Longquan St. Intersection (Southwest)', 'act': '1', 'srcUpdateTime': '2025-02-15 10:04:21', 'updateTime': '2025-02-15 10:04:52', 'infoTime': '2025-02-15 09:35:18', 'infoDate': '2025-02-15', 'total': 34, 'available_rent_bikes': 0, 'latitude': 25.02638, 'longitude': 121.52971, 'available_return_bikes': 34}\n",
      "{'sno': '500101111', 'sna': 'YouBike2.0_捷運古亭站(5號出口)', 'sarea': '大安區', 'mday': '2025-02-12 12:39:16', 'ar': '和平東路一段19號前', 'sareaen': 'Daan Dist.', 'snaen': 'YouBike2.0_MRT Guting Sta. (Exit 5)', 'aren': 'No. 19， Sec. 1， Heping E. Rd', 'act': '0', 'srcUpdateTime': '2025-02-15 10:04:21', 'updateTime': '2025-02-15 10:04:52', 'infoTime': '2025-02-12 12:39:16', 'infoDate': '2025-02-12', 'total': 14, 'available_rent_bikes': 0, 'latitude': 25.02715, 'longitude': 121.52293, 'available_return_bikes': 14}\n",
      "{'sno': '500101119', 'sna': 'YouBike2.0_金杭公園', 'sarea': '大安區', 'mday': '2025-02-15 10:04:18', 'ar': '愛國東路21巷與杭州南路二段25巷口東南側', 'sareaen': 'Daan Dist.', 'snaen': 'YouBike2.0_Jinhang Park', 'aren': 'Ln. 21， Aiguo E. Rd. & Ln. 25， Sec. 2， Hangzhou S. Rd. Intersection (Southeast)', 'act': '1', 'srcUpdateTime': '2025-02-15 10:04:21', 'updateTime': '2025-02-15 10:04:52', 'infoTime': '2025-02-15 10:04:18', 'infoDate': '2025-02-15', 'total': 20, 'available_rent_bikes': 0, 'latitude': 25.03325, 'longitude': 121.52436, 'available_return_bikes': 20}\n",
      "{'sno': '500101143', 'sna': 'YouBike2.0_昌隆公園', 'sarea': '大安區', 'mday': '2025-02-15 10:03:17', 'ar': '市民大道三段206號西側', 'sareaen': 'Daan Dist.', 'snaen': 'YouBike2.0_Changlong Park', 'aren': 'No. 206， Sec. 3， Civic Blvd. (West)', 'act': '1', 'srcUpdateTime': '2025-02-15 10:04:21', 'updateTime': '2025-02-15 10:04:52', 'infoTime': '2025-02-15 10:03:17', 'infoDate': '2025-02-15', 'total': 16, 'available_rent_bikes': 0, 'latitude': 25.04448, 'longitude': 121.53946, 'available_return_bikes': 16}\n",
      "{'sno': '500101213', 'sna': 'YouBike2.0_懷生國中', 'sarea': '大安區', 'mday': '2025-02-15 10:01:16', 'ar': '忠孝東路三段248巷30號', 'sareaen': 'Daan Dist.', 'snaen': 'YouBike2.0_Huai Sheng Junior High School', 'aren': 'No. 30， Ln. 248， Sec. 3， Zhongxiao E. Rd.', 'act': '1', 'srcUpdateTime': '2025-02-15 10:04:21', 'updateTime': '2025-02-15 10:04:52', 'infoTime': '2025-02-15 10:01:16', 'infoDate': '2025-02-15', 'total': 15, 'available_rent_bikes': 0, 'latitude': 25.0401, 'longitude': 121.54122, 'available_return_bikes': 15}\n",
      "{'sno': '500101229', 'sna': 'YouBike2.0_臺灣師範大學(浦城街)', 'sarea': '大安區', 'mday': '2025-02-15 10:03:17', 'ar': '浦城街1號對側', 'sareaen': 'Daan Dist.', 'snaen': 'YouBike2.0_National Taiwan Normal University (Pucheng St.)', 'aren': 'No. 1， Pucheng St. (Opposite)', 'act': '1', 'srcUpdateTime': '2025-02-15 10:04:21', 'updateTime': '2025-02-15 10:04:52', 'infoTime': '2025-02-15 10:03:17', 'infoDate': '2025-02-15', 'total': 15, 'available_rent_bikes': 0, 'latitude': 25.02476, 'longitude': 121.52803, 'available_return_bikes': 15}\n",
      "{'sno': '500103019', 'sna': 'YouBike2.0_民權延平路口(西北側)', 'sarea': '大同區', 'mday': '2025-02-15 09:58:16', 'ar': '民權西路239號前方', 'sareaen': 'Datong Dist', 'snaen': 'YouBike2.0_Minquan Rd. & Yanping Rd. Intersection (Northwest)', 'aren': 'No. 239， Minquan W. Rd.', 'act': '1', 'srcUpdateTime': '2025-02-15 10:04:21', 'updateTime': '2025-02-15 10:04:52', 'infoTime': '2025-02-15 09:58:16', 'infoDate': '2025-02-15', 'total': 20, 'available_rent_bikes': 0, 'latitude': 25.06326, 'longitude': 121.51099, 'available_return_bikes': 20}\n",
      "{'sno': '500103048', 'sna': 'YouBike2.0_南京太原路口', 'sarea': '大同區', 'mday': '2025-02-15 09:54:16', 'ar': '南京西路/太原路(東側)', 'sareaen': 'Datong Dist', 'snaen': 'YouBike2.0_Nanjing Rd. & Taiyuan Rd. Intersection', 'aren': 'Nanjing W. Rd. & Taiyuan Rd. Intersection (East)', 'act': '1', 'srcUpdateTime': '2025-02-15 10:04:21', 'updateTime': '2025-02-15 10:04:52', 'infoTime': '2025-02-15 09:54:16', 'infoDate': '2025-02-15', 'total': 29, 'available_rent_bikes': 0, 'latitude': 25.05366, 'longitude': 121.51638, 'available_return_bikes': 29}\n",
      "{'sno': '500103066', 'sna': 'YouBike2.0_南京西寧北路口(西北側)', 'sarea': '大同區', 'mday': '2025-02-15 09:47:16', 'ar': '南京西路/西寧北路(西北側)', 'sareaen': 'Datong Dist', 'snaen': 'YouBike2.0_NanJing W. Rd. & XiNing N. Rd. Intersection (Northwest)', 'aren': 'NanJing W. Rd. & XiNing N. Rd. Intersection (Northwest)', 'act': '1', 'srcUpdateTime': '2025-02-15 10:04:21', 'updateTime': '2025-02-15 10:04:52', 'infoTime': '2025-02-15 09:47:16', 'infoDate': '2025-02-15', 'total': 13, 'available_rent_bikes': 0, 'latitude': 25.05348, 'longitude': 121.50855, 'available_return_bikes': 13}\n",
      "{'sno': '500104001', 'sna': 'YouBike2.0_劍潭抽水站', 'sarea': '士林區', 'mday': '2024-11-14 20:28:16', 'ar': '通河東街325巷/通河東街口', 'sareaen': 'Shilin Dist', 'snaen': 'YouBike2.0_Jiantan Pumping Station', 'aren': 'Ln. 325， Tonghe St. Intersection', 'act': '0', 'srcUpdateTime': '2025-02-15 10:04:21', 'updateTime': '2025-02-15 10:04:52', 'infoTime': '2024-11-14 20:28:16', 'infoDate': '2024-11-14', 'total': 17, 'available_rent_bikes': 0, 'latitude': 25.08128, 'longitude': 121.51784, 'available_return_bikes': 17}\n",
      "{'sno': '500104042', 'sna': 'YouBike2.0_銘傳大學', 'sarea': '士林區', 'mday': '2025-02-15 09:58:16', 'ar': '中山北路五段250號(銘傳大學對側)', 'sareaen': 'Shilin Dist', 'snaen': 'YouBike2.0_Ming Chuan University Taipei Campus', 'aren': 'No. 250， Sec. 5， Zhongshan N. Rd.', 'act': '1', 'srcUpdateTime': '2025-02-15 10:04:21', 'updateTime': '2025-02-15 10:04:52', 'infoTime': '2025-02-15 09:58:16', 'infoDate': '2025-02-15', 'total': 26, 'available_rent_bikes': 0, 'latitude': 25.08771, 'longitude': 121.52677, 'available_return_bikes': 26}\n",
      "{'sno': '500104057', 'sna': 'YouBike2.0_社子國小', 'sarea': '士林區', 'mday': '2024-11-01 03:49:15', 'ar': '社中街476號(對面)', 'sareaen': 'Shilin Dist', 'snaen': 'YouBike2.0_Shezi Elementary School', 'aren': 'No. 476， Shezhong St. (Opposite)', 'act': '0', 'srcUpdateTime': '2025-02-15 10:04:21', 'updateTime': '2025-02-15 10:04:52', 'infoTime': '2024-11-01 03:49:15', 'infoDate': '2024-11-01', 'total': 15, 'available_rent_bikes': 0, 'latitude': 25.09058, 'longitude': 121.50142, 'available_return_bikes': 15}\n",
      "{'sno': '500104071', 'sna': 'YouBike2.0_聖山綠地', 'sarea': '士林區', 'mday': '2025-02-15 10:04:18', 'ar': '忠義街94號(旁)', 'sareaen': 'Shilin Dist', 'snaen': 'YouBike2.0_Shengshan Greens', 'aren': 'No. 94， Zhongyi St.', 'act': '1', 'srcUpdateTime': '2025-02-15 10:04:21', 'updateTime': '2025-02-15 10:04:52', 'infoTime': '2025-02-15 10:04:18', 'infoDate': '2025-02-15', 'total': 15, 'available_rent_bikes': 0, 'latitude': 25.10696, 'longitude': 121.53234, 'available_return_bikes': 15}\n",
      "{'sno': '500104099', 'sna': 'YouBike2.0_文林路101巷口', 'sarea': '士林區', 'mday': '2025-02-15 09:59:16', 'ar': '文林路100號前', 'sareaen': 'Shilin Dist', 'snaen': 'YouBike2.0_Ln. 101， Wenlin Rd.', 'aren': 'No. 100， Wenlin Rd.', 'act': '1', 'srcUpdateTime': '2025-02-15 10:04:21', 'updateTime': '2025-02-15 10:04:52', 'infoTime': '2025-02-15 09:59:16', 'infoDate': '2025-02-15', 'total': 17, 'available_rent_bikes': 0, 'latitude': 25.08761, 'longitude': 121.52608, 'available_return_bikes': 17}\n",
      "{'sno': '500104110', 'sna': 'YouBike2.0_海光公園南側', 'sarea': '士林區', 'mday': '2024-12-22 19:12:18', 'ar': '葫蘆街79號對側公園', 'sareaen': 'Shilin Dist', 'snaen': 'YouBike2.0_Haiguang Park (South)', 'aren': 'No. 79， Hulu St. (Opposite)', 'act': '0', 'srcUpdateTime': '2025-02-15 10:04:21', 'updateTime': '2025-02-15 10:04:52', 'infoTime': '2024-12-22 19:12:18', 'infoDate': '2024-12-22', 'total': 12, 'available_rent_bikes': 0, 'latitude': 25.08036, 'longitude': 121.5084, 'available_return_bikes': 12}\n",
      "{'sno': '500104116', 'sna': 'YouBike2.0_天母東路8巷/忠誠路二段154巷口', 'sarea': '士林區', 'mday': '2025-02-15 09:59:16', 'ar': '天母東路8巷57號對側', 'sareaen': 'Shilin Dist', 'snaen': 'YouBike2.0_Ln. 8， Tianmu E. Rd. & Ln. 154， Sec. 2， Zhongcheng Rd. Intersection', 'aren': 'No. 57， Ln. 8， Tianmu E. Rd. (Opposite)', 'act': '1', 'srcUpdateTime': '2025-02-15 10:04:21', 'updateTime': '2025-02-15 10:04:52', 'infoTime': '2025-02-15 09:59:16', 'infoDate': '2025-02-15', 'total': 14, 'available_rent_bikes': 0, 'latitude': 25.11579, 'longitude': 121.53113, 'available_return_bikes': 12}\n",
      "{'sno': '500105013', 'sna': 'YouBike2.0_景美運動公園', 'sarea': '文山區', 'mday': '2025-02-15 09:46:17', 'ar': '景豐街79號(旁公園)', 'sareaen': 'Wenshan Dist', 'snaen': 'YouBike2.0_Jingmei Sports Park', 'aren': 'No. 79， Jingfeng St. (Side)', 'act': '1', 'srcUpdateTime': '2025-02-15 10:04:21', 'updateTime': '2025-02-15 10:04:52', 'infoTime': '2025-02-15 09:46:17', 'infoDate': '2025-02-15', 'total': 26, 'available_rent_bikes': 0, 'latitude': 25.00219, 'longitude': 121.54454, 'available_return_bikes': 25}\n",
      "{'sno': '500105049', 'sna': 'YouBike2.0_興得閱覽室', 'sarea': '文山區', 'mday': '2025-02-15 09:52:16', 'ar': '興隆路三段304巷145號', 'sareaen': 'Wenshan Dist', 'snaen': 'YouBike2.0_Xingde Reading Room', 'aren': 'No. 145， Ln. 304， Sec. 3， Xinglong Rd.', 'act': '1', 'srcUpdateTime': '2025-02-15 10:04:21', 'updateTime': '2025-02-15 10:04:52', 'infoTime': '2025-02-15 09:52:16', 'infoDate': '2025-02-15', 'total': 24, 'available_rent_bikes': 0, 'latitude': 24.99579, 'longitude': 121.55498, 'available_return_bikes': 24}\n",
      "{'sno': '500105059', 'sna': 'YouBike2.0_木南公園', 'sarea': '文山區', 'mday': '2025-02-15 09:45:17', 'ar': '木新路二段永安街22巷口', 'sareaen': 'Wenshan Dist', 'snaen': 'YouBike2.0_Mu Nan Park', 'aren': \"Sec. 2， Muxin Rd. & Ln. 22， Yong'an St. Intersection\", 'act': '1', 'srcUpdateTime': '2025-02-15 10:04:21', 'updateTime': '2025-02-15 10:04:52', 'infoTime': '2025-02-15 09:45:17', 'infoDate': '2025-02-15', 'total': 17, 'available_rent_bikes': 0, 'latitude': 24.98662, 'longitude': 121.57071, 'available_return_bikes': 17}\n",
      "{'sno': '500105062', 'sna': 'YouBike2.0_捷運動物園站(2號出口)', 'sarea': '文山區', 'mday': '2024-11-01 03:49:15', 'ar': '新光路二段28號前', 'sareaen': 'Wenshan Dist', 'snaen': 'YouBike2.0_MRT Taipei Zoo Sta. (Exit 2)', 'aren': 'No. 28， Sec. 2， Xinguang Rd.', 'act': '0', 'srcUpdateTime': '2025-02-15 10:04:21', 'updateTime': '2025-02-15 10:04:52', 'infoTime': '2024-11-01 03:49:15', 'infoDate': '2024-11-01', 'total': 39, 'available_rent_bikes': 0, 'latitude': 24.99766, 'longitude': 121.57875, 'available_return_bikes': 39}\n",
      "{'sno': '500105104', 'sna': 'YouBike2.0_名門社區', 'sarea': '文山區', 'mday': '2025-02-15 09:39:16', 'ar': '和平東路四段77號對側', 'sareaen': 'Wenshan Dist', 'snaen': 'YouBike2.0_Mingmen Community', 'aren': 'No. 77， Sec. 4， HePing E. Rd. (Opposite)', 'act': '1', 'srcUpdateTime': '2025-02-15 10:04:21', 'updateTime': '2025-02-15 10:04:52', 'infoTime': '2025-02-15 09:39:16', 'infoDate': '2025-02-15', 'total': 18, 'available_rent_bikes': 0, 'latitude': 25.00516, 'longitude': 121.56757, 'available_return_bikes': 18}\n",
      "{'sno': '500106005', 'sna': 'YouBike2.0_捷運古亭站(9號出口)', 'sarea': '中正區', 'mday': '2025-02-14 08:45:17', 'ar': '羅斯福路二段100號(前方)', 'sareaen': 'Zhongzheng Dist', 'snaen': 'YouBike2.0_MRT Guting Sta. (Exit 9)', 'aren': 'No. 100， Sec. 2， Roosevelt Rd', 'act': '0', 'srcUpdateTime': '2025-02-15 10:04:21', 'updateTime': '2025-02-15 10:04:52', 'infoTime': '2025-02-14 08:45:17', 'infoDate': '2025-02-14', 'total': 20, 'available_rent_bikes': 0, 'latitude': 25.02694, 'longitude': 121.52224, 'available_return_bikes': 0}\n",
      "{'sno': '500106018', 'sna': 'YouBike2.0_和平重慶路口', 'sarea': '中正區', 'mday': '2025-02-15 09:55:17', 'ar': '和平西路一段/福州街口東側', 'sareaen': 'Zhongzheng Dist', 'snaen': 'YouBike2.0_Heping & Chongqing Rd. Intersection', 'aren': 'Sec. 1， Heping W. Rd. & Fuzhou St. Intersection (East)', 'act': '1', 'srcUpdateTime': '2025-02-15 10:04:21', 'updateTime': '2025-02-15 10:04:52', 'infoTime': '2025-02-15 09:55:17', 'infoDate': '2025-02-15', 'total': 46, 'available_rent_bikes': 0, 'latitude': 25.02723, 'longitude': 121.51659, 'available_return_bikes': 45}\n",
      "{'sno': '500106050', 'sna': 'YouBike2.0_捷運小南門站(1號出口)', 'sarea': '中正區', 'mday': '2025-02-15 09:56:16', 'ar': '愛國西路/延平南路(西北側)', 'sareaen': 'Zhongzheng Dist', 'snaen': 'YouBike2.0_MRT Xiaonanmen Sta. (Exit 1)', 'aren': 'Aiguo E. Rd. & Yanping S. Rd Intersection (Northwest)', 'act': '1', 'srcUpdateTime': '2025-02-15 10:04:21', 'updateTime': '2025-02-15 10:04:52', 'infoTime': '2025-02-15 09:56:16', 'infoDate': '2025-02-15', 'total': 46, 'available_rent_bikes': 0, 'latitude': 25.03648, 'longitude': 121.50951, 'available_return_bikes': 45}\n",
      "{'sno': '500106077', 'sna': 'YouBike2.0_林森徐州路口', 'sarea': '中正區', 'mday': '2025-02-15 10:04:16', 'ar': '林森南路/徐州路口(西南側)', 'sareaen': 'Zhongzheng Dist', 'snaen': 'YouBike2.0_Linsen Rd. & Xuzhou Rd. Intersection', 'aren': 'Linsen S. Rd. & Xuzhou Rd. Intersection (Northwest)', 'act': '1', 'srcUpdateTime': '2025-02-15 10:04:21', 'updateTime': '2025-02-15 10:04:52', 'infoTime': '2025-02-15 10:04:16', 'infoDate': '2025-02-15', 'total': 32, 'available_rent_bikes': 0, 'latitude': 25.04094, 'longitude': 121.52215, 'available_return_bikes': 32}\n",
      "{'sno': '500106089', 'sna': 'YouBike2.0_羅斯福寧波東街口', 'sarea': '中正區', 'mday': '2025-01-27 14:49:16', 'ar': '羅斯福路一段/寧波東街(東南側)', 'sareaen': 'Zhongzheng Dist', 'snaen': 'YouBike2.0_Roosevelt Rd. & Ningbo E. St. Intersection', 'aren': 'Sec. 1， Roosevelt Rd. & Ningbo E. St. Intersection (Southeast)', 'act': '0', 'srcUpdateTime': '2025-02-15 10:04:21', 'updateTime': '2025-02-15 10:04:52', 'infoTime': '2025-01-27 14:49:16', 'infoDate': '2025-01-27', 'total': 26, 'available_rent_bikes': 0, 'latitude': 25.03145, 'longitude': 121.51941, 'available_return_bikes': 0}\n",
      "{'sno': '500106104', 'sna': 'YouBike2.0_捷運臺大醫院站(1號出口)', 'sarea': '中正區', 'mday': '2025-02-15 09:50:19', 'ar': '公園路/常德街口(西側)', 'sareaen': 'Zhongzheng Dist', 'snaen': 'YouBike2.0_MRT NTU Hospital Sta. (Exit. 1)', 'aren': 'Gongyuan Rd. & Changde St. Intersection (West)', 'act': '1', 'srcUpdateTime': '2025-02-15 10:04:21', 'updateTime': '2025-02-15 10:04:52', 'infoTime': '2025-02-15 09:50:19', 'infoDate': '2025-02-15', 'total': 19, 'available_rent_bikes': 0, 'latitude': 25.04074, 'longitude': 121.51586, 'available_return_bikes': 19}\n",
      "{'sno': '500106118', 'sna': 'YouBike2.0_捷運中正紀念堂站(2號出口)', 'sarea': '中正區', 'mday': '2025-02-15 10:03:17', 'ar': '羅斯福路一段10號前', 'sareaen': 'Zhongzheng Dist', 'snaen': 'YouBike2.0_MRT C.K.S Memorial Hall Sta.(Exit 2)', 'aren': 'No. 10， Sec. 1， Roosevelt Rd.', 'act': '1', 'srcUpdateTime': '2025-02-15 10:04:21', 'updateTime': '2025-02-15 10:04:52', 'infoTime': '2025-02-15 10:03:17', 'infoDate': '2025-02-15', 'total': 12, 'available_rent_bikes': 0, 'latitude': 25.03212, 'longitude': 121.51861, 'available_return_bikes': 12}\n",
      "{'sno': '500106120', 'sna': 'YouBike2.0_螢橋公園', 'sarea': '中正區', 'mday': '2025-02-15 10:03:20', 'ar': '和平西路一段110號旁', 'sareaen': 'Zhongzheng Dist', 'snaen': 'YouBike2.0_Yingqiao Park', 'aren': 'No. 110， Sec. 1， Heping W. Rd.', 'act': '1', 'srcUpdateTime': '2025-02-15 10:04:21', 'updateTime': '2025-02-15 10:04:52', 'infoTime': '2025-02-15 10:03:20', 'infoDate': '2025-02-15', 'total': 29, 'available_rent_bikes': 0, 'latitude': 25.02682, 'longitude': 121.51737, 'available_return_bikes': 25}\n",
      "{'sno': '500106136', 'sna': 'YouBike2.0_公館水岸廣場', 'sarea': '中正區', 'mday': '2025-02-15 10:03:17', 'ar': '水源路與思源街口', 'sareaen': 'Zhongzheng Dist', 'snaen': 'YouBike2.0_Gongguan Riverside Plaza', 'aren': 'ShuiYuan Rd. & SiYuan St. Intersection', 'act': '1', 'srcUpdateTime': '2025-02-15 10:04:21', 'updateTime': '2025-02-15 10:04:52', 'infoTime': '2025-02-15 10:03:17', 'infoDate': '2025-02-15', 'total': 27, 'available_rent_bikes': 0, 'latitude': 25.01193, 'longitude': 121.52861, 'available_return_bikes': 27}\n",
      "{'sno': '500107044', 'sna': 'YouBike2.0_新生高架停車場(林森北路107巷口)', 'sarea': '中山區', 'mday': '2025-02-15 09:53:15', 'ar': '新生北路一段與林森北路107巷口(新生高架橋下)', 'sareaen': 'Zhongshan Dist', 'snaen': 'YouBike2.0_Xinsheng Elevated Parking Lot (Ln. 107， Linsen N. Rd.)', 'aren': 'Sec. 1， Xinsheng N. Rd. & Ln. 107， Linsen N. Rd. (Under Xinsheng Elevated Bridge)', 'act': '1', 'srcUpdateTime': '2025-02-15 10:04:21', 'updateTime': '2025-02-15 10:04:52', 'infoTime': '2025-02-15 09:53:15', 'infoDate': '2025-02-15', 'total': 14, 'available_rent_bikes': 0, 'latitude': 25.04983, 'longitude': 121.52853, 'available_return_bikes': 13}\n",
      "{'sno': '500107077', 'sna': 'YouBike2.0_中山北路二段59巷口', 'sarea': '中山區', 'mday': '2025-01-26 16:33:15', 'ar': '中山北路二段59之3號前', 'sareaen': 'Zhongshan Dist', 'snaen': 'YouBike2.0_Ln. 59， Sec. 2， Zhongshan N. Rd.', 'aren': 'No. 59-3， Sec. 2， Zhongshan N. Rd.', 'act': '0', 'srcUpdateTime': '2025-02-15 10:04:21', 'updateTime': '2025-02-15 10:04:52', 'infoTime': '2025-01-26 16:33:15', 'infoDate': '2025-01-26', 'total': 12, 'available_rent_bikes': 0, 'latitude': 25.05606, 'longitude': 121.5229, 'available_return_bikes': 12}\n",
      "{'sno': '500107083', 'sna': 'YouBike2.0_興安合江路口', 'sarea': '中山區', 'mday': '2025-02-15 10:03:17', 'ar': '興安街60號對側', 'sareaen': 'Zhongshan Dist', 'snaen': \"YouBike2.0_Xing'an St. & Hejiang St. Intersection\", 'aren': \"No. 60， Xing'an St. (Opposite)\", 'act': '1', 'srcUpdateTime': '2025-02-15 10:04:21', 'updateTime': '2025-02-15 10:04:52', 'infoTime': '2025-02-15 10:03:17', 'infoDate': '2025-02-15', 'total': 29, 'available_rent_bikes': 0, 'latitude': 25.05619, 'longitude': 121.53949, 'available_return_bikes': 25}\n",
      "{'sno': '500107120', 'sna': 'YouBike2.0_復華公園', 'sarea': '中山區', 'mday': '2025-02-15 09:41:16', 'ar': '南京東路三段109巷/龍江路120巷', 'sareaen': 'Zhongshan Dist', 'snaen': 'YouBike2.0_Fuhua Park', 'aren': 'Ln. 109， Sec. 3， Nanjing E. Rd. & Ln. 120， Longjiang Rd. Intersection', 'act': '1', 'srcUpdateTime': '2025-02-15 10:04:21', 'updateTime': '2025-02-15 10:04:52', 'infoTime': '2025-02-15 09:41:16', 'infoDate': '2025-02-15', 'total': 20, 'available_rent_bikes': 0, 'latitude': 25.05339, 'longitude': 121.5401, 'available_return_bikes': 20}\n",
      "{'sno': '500107133', 'sna': 'YouBike2.0_敬業三樂群三路口(西北側)', 'sarea': '中山區', 'mday': '2025-02-08 01:24:15', 'ar': '敬業三路/樂群三路口', 'sareaen': 'Zhongshan Dist', 'snaen': 'YouBike2.0_Jingye 3rd Rd. & Lequn 3rd Rd. Intersection (Northwest)', 'aren': 'Jingye 3rd Rd. & Lequn 3rd Rd. Intersection', 'act': '0', 'srcUpdateTime': '2025-02-15 10:04:21', 'updateTime': '2025-02-15 10:04:52', 'infoTime': '2025-02-08 01:24:15', 'infoDate': '2025-02-08', 'total': 22, 'available_rent_bikes': 0, 'latitude': 25.08272, 'longitude': 121.55624, 'available_return_bikes': 22}\n",
      "{'sno': '500107134', 'sna': 'YouBike2.0_長春路258巷2弄口', 'sarea': '中山區', 'mday': '2025-02-15 08:37:15', 'ar': '長春路258巷6號北側', 'sareaen': 'Zhongshan Dist', 'snaen': 'YouBike2.0_Aly. 2， Ln. 258， Changchun Rd.', 'aren': 'No. 6， Ln. 258， Changchun Rd. (North)', 'act': '0', 'srcUpdateTime': '2025-02-15 10:04:21', 'updateTime': '2025-02-15 10:04:52', 'infoTime': '2025-02-15 08:37:15', 'infoDate': '2025-02-15', 'total': 15, 'available_rent_bikes': 0, 'latitude': 25.05427, 'longitude': 121.53896, 'available_return_bikes': 0}\n",
      "{'sno': '500107152', 'sna': 'YouBike2.0_中崙加油站', 'sarea': '中山區', 'mday': '2025-02-15 09:13:18', 'ar': '八德路二段214號', 'sareaen': 'Zhongshan Dist', 'snaen': 'YouBike2.0_ZhongLun Gas station', 'aren': 'No. 21， Sec. 2， Bade Rd.', 'act': '1', 'srcUpdateTime': '2025-02-15 10:04:21', 'updateTime': '2025-02-15 10:04:52', 'infoTime': '2025-02-15 09:13:18', 'infoDate': '2025-02-15', 'total': 27, 'available_rent_bikes': 0, 'latitude': 25.04634, 'longitude': 121.53979, 'available_return_bikes': 27}\n",
      "{'sno': '500107154', 'sna': 'YouBike2.0_中正國小(南京東路三段48巷)', 'sarea': '中山區', 'mday': '2025-02-15 10:01:16', 'ar': '南京東路三段48巷/龍江路76巷', 'sareaen': 'Zhongshan Dist', 'snaen': 'YouBike2.0_Zhong Zheng Elementary School (Ln. 48， Sec. 3， NanJing E. Rd.)', 'aren': 'Ln. 48， Sec. 3， NanJing E. Rd. & Ln. 76， LongJiang Rd. Intersection', 'act': '1', 'srcUpdateTime': '2025-02-15 10:04:21', 'updateTime': '2025-02-15 10:04:52', 'infoTime': '2025-02-15 10:01:16', 'infoDate': '2025-02-15', 'total': 15, 'available_rent_bikes': 0, 'latitude': 25.05126, 'longitude': 121.53845, 'available_return_bikes': 15}\n",
      "{'sno': '500108030', 'sna': 'YouBike2.0_文德二號公園(南側)', 'sarea': '內湖區', 'mday': '2025-02-15 10:03:17', 'ar': '陽光街與陽光街68巷102弄口', 'sareaen': 'Neihu Dist', 'snaen': 'YouBike2.0_Wende No.2 Park (South)', 'aren': 'Aly. 102， Ln. 68， Yangguang St & Yangguang St Intersection', 'act': '1', 'srcUpdateTime': '2025-02-15 10:04:21', 'updateTime': '2025-02-15 10:04:52', 'infoTime': '2025-02-15 10:03:17', 'infoDate': '2025-02-15', 'total': 13, 'available_rent_bikes': 0, 'latitude': 25.07504, 'longitude': 121.58375, 'available_return_bikes': 13}\n",
      "{'sno': '500108061', 'sna': 'YouBike2.0_碧湖公園(內湖路二段103巷)', 'sarea': '內湖區', 'mday': '2025-02-15 10:00:19', 'ar': '內湖路二段103巷76號(對面)', 'sareaen': 'Neihu Dist', 'snaen': 'YouBike2.0_Bihu Park (Ln. 103， Sec. 2， Neihu Rd.)', 'aren': 'No. 76， Ln. 103， Sec. 2， Neihu Rd. (Opposite)', 'act': '1', 'srcUpdateTime': '2025-02-15 10:04:21', 'updateTime': '2025-02-15 10:04:52', 'infoTime': '2025-02-15 10:00:19', 'infoDate': '2025-02-15', 'total': 19, 'available_rent_bikes': 0, 'latitude': 25.08317, 'longitude': 121.58109, 'available_return_bikes': 19}\n",
      "{'sno': '500108072', 'sna': 'YouBike2.0_石潭公園(安康路)', 'sarea': '內湖區', 'mday': '2025-02-15 10:02:16', 'ar': '安康路28號西北側', 'sareaen': 'Neihu Dist', 'snaen': 'YouBike2.0_Shitan Park (Ankang Rd.)', 'aren': 'No. 28， Ankang Rd. (Northwest)', 'act': '1', 'srcUpdateTime': '2025-02-15 10:04:21', 'updateTime': '2025-02-15 10:04:52', 'infoTime': '2025-02-15 10:02:16', 'infoDate': '2025-02-15', 'total': 20, 'available_rent_bikes': 0, 'latitude': 25.06261, 'longitude': 121.59334, 'available_return_bikes': 20}\n",
      "{'sno': '500109065', 'sna': 'YouBike2.0_奇岩一號公園', 'sarea': '北投區', 'mday': '2024-11-01 03:51:14', 'ar': '磺港路/清江路177巷(東側)', 'sareaen': 'Beitou Dist', 'snaen': 'YouBike2.0_Qiyan No.1 Park', 'aren': 'Huanggang Rd. & Ln. 177， Qingjiang Rd. Intersection (East)', 'act': '0', 'srcUpdateTime': '2025-02-15 10:04:21', 'updateTime': '2025-02-15 10:04:52', 'infoTime': '2024-11-01 03:51:14', 'infoDate': '2024-11-01', 'total': 24, 'available_rent_bikes': 0, 'latitude': 25.12862, 'longitude': 121.5033, 'available_return_bikes': 24}\n",
      "{'sno': '500109094', 'sna': 'YouBike2.0_立功街55巷口', 'sarea': '北投區', 'mday': '2025-02-15 09:25:18', 'ar': '立功街76號對側', 'sareaen': 'Beitou Dist', 'snaen': 'YouBike2.0_Ln. 55， LiGong St.', 'aren': 'No. 76， LiGong St. (Opposite)', 'act': '1', 'srcUpdateTime': '2025-02-15 10:04:21', 'updateTime': '2025-02-15 10:04:52', 'infoTime': '2025-02-15 09:25:18', 'infoDate': '2025-02-15', 'total': 14, 'available_rent_bikes': 0, 'latitude': 25.12518, 'longitude': 121.46922, 'available_return_bikes': 14}\n",
      "{'sno': '500109104', 'sna': 'YouBike2.0_石牌路二段324巷口', 'sarea': '北投區', 'mday': '2025-02-15 10:04:18', 'ar': '石牌路二段324巷1號(對面)', 'sareaen': 'Beitou Dist', 'snaen': 'YouBike2.0_Ln. 324， Sec. 2， ShiPai Rd.', 'aren': 'No. 1， Ln. 324， Sec. 2， ShiPai Rd. (Opposite)', 'act': '1', 'srcUpdateTime': '2025-02-15 10:04:21', 'updateTime': '2025-02-15 10:04:52', 'infoTime': '2025-02-15 10:04:18', 'infoDate': '2025-02-15', 'total': 15, 'available_rent_bikes': 0, 'latitude': 25.12164, 'longitude': 121.52404, 'available_return_bikes': 15}\n",
      "{'sno': '500109106', 'sna': 'YouBike2.0_泉源路23巷口', 'sarea': '北投區', 'mday': '2025-02-15 09:30:18', 'ar': '泉源路23巷/泉源路', 'sareaen': 'Beitou Dist', 'snaen': 'YouBike2.0_Ln. 23， QuanYuan Rd.', 'aren': 'Ln. 23， QuanYuan Rd. & QuanYuan Rd. Intersection', 'act': '1', 'srcUpdateTime': '2025-02-15 10:04:21', 'updateTime': '2025-02-15 10:04:52', 'infoTime': '2025-02-15 09:30:18', 'infoDate': '2025-02-15', 'total': 25, 'available_rent_bikes': 0, 'latitude': 25.13939, 'longitude': 121.50571, 'available_return_bikes': 25}\n",
      "{'sno': '500110016', 'sna': 'YouBike2.0_三民路166巷口', 'sarea': '松山區', 'mday': '2025-02-15 09:58:16', 'ar': '三民路166巷1號(對面)', 'sareaen': 'Songshan Dist', 'snaen': 'YouBike2.0_Ln. 166， Sanmin Rd. Intersection', 'aren': 'No. 1， Ln. 166， Sanmin Rd. (Opposite)', 'act': '1', 'srcUpdateTime': '2025-02-15 10:04:21', 'updateTime': '2025-02-15 10:04:52', 'infoTime': '2025-02-15 09:58:16', 'infoDate': '2025-02-15', 'total': 12, 'available_rent_bikes': 0, 'latitude': 25.0619, 'longitude': 121.56328, 'available_return_bikes': 12}\n",
      "{'sno': '500110030', 'sna': 'YouBike2.0_健康社會住宅', 'sarea': '松山區', 'mday': '2025-02-15 09:55:17', 'ar': '健康路305號(前)', 'sareaen': 'Songshan Dist', 'snaen': 'YouBike2.0_Jiankang Social Housing', 'aren': 'No. 305， Jiankang Rd.', 'act': '1', 'srcUpdateTime': '2025-02-15 10:04:21', 'updateTime': '2025-02-15 10:04:52', 'infoTime': '2025-02-15 09:55:17', 'infoDate': '2025-02-15', 'total': 20, 'available_rent_bikes': 0, 'latitude': 25.05433, 'longitude': 121.56545, 'available_return_bikes': 20}\n",
      "{'sno': '500110081', 'sna': 'YouBike2.0_延壽街119巷口', 'sarea': '松山區', 'mday': '2025-02-15 10:01:16', 'ar': '延壽街119巷/延壽街', 'sareaen': 'Songshan Dist', 'snaen': 'YouBike2.0_Ln. 119， Yanshou St.', 'aren': 'Ln. 119， Yanshou St. & Yanshou St.', 'act': '1', 'srcUpdateTime': '2025-02-15 10:04:21', 'updateTime': '2025-02-15 10:04:52', 'infoTime': '2025-02-15 10:01:16', 'infoDate': '2025-02-15', 'total': 15, 'available_rent_bikes': 0, 'latitude': 25.05708, 'longitude': 121.56486, 'available_return_bikes': 14}\n",
      "{'sno': '500110087', 'sna': 'YouBike2.0_寶清八德路口(北側)', 'sarea': '松山區', 'mday': '2024-11-01 03:51:14', 'ar': '寶清街29號旁', 'sareaen': 'Songshan Dist', 'snaen': 'YouBike2.0_BaoQing St. & BaDe Rd. Intersection (North)', 'aren': 'No. 29， BaoQing St.', 'act': '0', 'srcUpdateTime': '2025-02-15 10:04:21', 'updateTime': '2025-02-15 10:04:52', 'infoTime': '2024-11-01 03:51:14', 'infoDate': '2024-11-01', 'total': 15, 'available_rent_bikes': 0, 'latitude': 25.05028, 'longitude': 121.56879, 'available_return_bikes': 15}\n",
      "{'sno': '500111019', 'sna': 'YouBike2.0_捷運南港軟體園區(2號出口)', 'sarea': '南港區', 'mday': '2024-11-01 03:52:15', 'ar': '經貿二路183號(2號出口)', 'sareaen': 'Nangang Dist', 'snaen': 'YouBike2.0_MRT Nangang Software Park Sta. (Exit 2)', 'aren': 'No. 183， Jingmao 2nd Rd. (Exit 2)', 'act': '0', 'srcUpdateTime': '2025-02-15 10:04:21', 'updateTime': '2025-02-15 10:04:52', 'infoTime': '2024-11-01 03:52:15', 'infoDate': '2024-11-01', 'total': 37, 'available_rent_bikes': 0, 'latitude': 25.05933, 'longitude': 121.61677, 'available_return_bikes': 37}\n",
      "{'sno': '500111089', 'sna': 'YouBike2.0_向陽南港路口(西北側)', 'sarea': '南港區', 'mday': '2025-02-15 10:04:16', 'ar': '南港路二段312號', 'sareaen': 'Nangang Dist', 'snaen': 'YouBike2.0_XiangYang Rd. & NanGang Rd. Intersection (Northwest)', 'aren': 'No. 312， Sec. 2， NanGang Rd.', 'act': '1', 'srcUpdateTime': '2025-02-15 10:04:21', 'updateTime': '2025-02-15 10:04:52', 'infoTime': '2025-02-15 10:04:16', 'infoDate': '2025-02-15', 'total': 16, 'available_rent_bikes': 0, 'latitude': 25.05486, 'longitude': 121.5944, 'available_return_bikes': 16}\n",
      "{'sno': '500112002', 'sna': 'YouBike2.0_基隆路二段159巷口', 'sarea': '信義區', 'mday': '2025-02-15 10:04:16', 'ar': '基隆路二段155號', 'sareaen': 'Xinyi Dist', 'snaen': 'YouBike2.0_Ln. 159， Sec. 2， Keelung Rd. Intersection', 'aren': 'No. 155， Sec. 2， Keelung Rd.', 'act': '1', 'srcUpdateTime': '2025-02-15 10:04:21', 'updateTime': '2025-02-15 10:04:52', 'infoTime': '2025-02-15 10:04:16', 'infoDate': '2025-02-15', 'total': 14, 'available_rent_bikes': 0, 'latitude': 25.02561, 'longitude': 121.55409, 'available_return_bikes': 14}\n",
      "{'sno': '500112021', 'sna': 'YouBike2.0_光復信義路口東南側', 'sarea': '信義區', 'mday': '2024-12-10 09:04:14', 'ar': '光復南路485號前方', 'sareaen': 'Xinyi Dist', 'snaen': 'YouBike2.0_Guangfu S. Rd & Sec. 4， Xinyi Rd Intersection (Southeast)', 'aren': 'No. 485， Guangfu S. Rd.', 'act': '0', 'srcUpdateTime': '2025-02-15 10:04:21', 'updateTime': '2025-02-15 10:04:52', 'infoTime': '2024-12-10 09:04:14', 'infoDate': '2024-12-10', 'total': 16, 'available_rent_bikes': 0, 'latitude': 25.03281, 'longitude': 121.55756, 'available_return_bikes': 0}\n",
      "{'sno': '500112030', 'sna': 'YouBike2.0_松智松壽路口', 'sarea': '信義區', 'mday': '2025-02-15 07:57:15', 'ar': '松智路/松壽路(西北側)', 'sareaen': 'Xinyi Dist', 'snaen': 'YouBike2.0_Songzhi Rd & Songshou Rd Intersection', 'aren': 'Songzhi Rd & Songshou Rd Intersection. (Northwest)', 'act': '0', 'srcUpdateTime': '2025-02-15 10:04:21', 'updateTime': '2025-02-15 10:04:52', 'infoTime': '2025-02-15 07:57:15', 'infoDate': '2025-02-15', 'total': 39, 'available_rent_bikes': 0, 'latitude': 25.03607, 'longitude': 121.56535, 'available_return_bikes': 0}\n",
      "{'sno': '500112031', 'sna': 'YouBike2.0_市府松壽路口', 'sarea': '信義區', 'mday': '2025-02-15 10:03:20', 'ar': '市府路/松壽路(東北側)', 'sareaen': 'Xinyi Dist', 'snaen': 'YouBike2.0_Shifu Rd & Songshou Rd Intersection', 'aren': 'Shifu Rd & Songshou Rd Intersection. (Northeast)', 'act': '1', 'srcUpdateTime': '2025-02-15 10:04:21', 'updateTime': '2025-02-15 10:04:52', 'infoTime': '2025-02-15 10:03:20', 'infoDate': '2025-02-15', 'total': 28, 'available_rent_bikes': 0, 'latitude': 25.03627, 'longitude': 121.56383, 'available_return_bikes': 27}\n",
      "{'sno': '500112079', 'sna': 'YouBike2.0_協和祐德高級中學', 'sarea': '信義區', 'mday': '2025-02-15 09:45:17', 'ar': '中坡南路51號對側', 'sareaen': 'Xinyi Dist', 'snaen': 'YouBike2.0_Xiehe Youde High School', 'aren': 'No. 51， Zhongpo S. Rd. (Opposite)', 'act': '1', 'srcUpdateTime': '2025-02-15 10:04:21', 'updateTime': '2025-02-15 10:04:52', 'infoTime': '2025-02-15 09:45:17', 'infoDate': '2025-02-15', 'total': 20, 'available_rent_bikes': 0, 'latitude': 25.0426, 'longitude': 121.58381, 'available_return_bikes': 20}\n",
      "{'sno': '500113003', 'sna': 'YouBike2.0_萬大路486巷口', 'sarea': '萬華區', 'mday': '2025-02-15 10:04:16', 'ar': '萬大路482號(旁)', 'sareaen': 'Wanhua Dist', 'snaen': 'YouBike2.0_Ln. 486， Wanda Rd', 'aren': 'No. 482， Wanda Rd.', 'act': '1', 'srcUpdateTime': '2025-02-15 10:04:21', 'updateTime': '2025-02-15 10:04:52', 'infoTime': '2025-02-15 10:04:16', 'infoDate': '2025-02-15', 'total': 10, 'available_rent_bikes': 0, 'latitude': 25.01975, 'longitude': 121.4973, 'available_return_bikes': 10}\n",
      "{'sno': '500113062', 'sna': 'YouBike2.0_龍山國中', 'sarea': '萬華區', 'mday': '2025-02-15 09:58:16', 'ar': '南寧路與廣州街口南側', 'sareaen': 'Wanhua Dist', 'snaen': 'YouBike2.0_LongShan Junior High School', 'aren': 'Nanning Rd. & Guangzhou St. Intersection (South)', 'act': '1', 'srcUpdateTime': '2025-02-15 10:04:21', 'updateTime': '2025-02-15 10:04:52', 'infoTime': '2025-02-15 09:58:16', 'infoDate': '2025-02-15', 'total': 15, 'available_rent_bikes': 0, 'latitude': 25.03646, 'longitude': 121.50492, 'available_return_bikes': 15}\n",
      "{'sno': '500119056', 'sna': 'YouBike2.0_臺大農化新館西側', 'sarea': '臺大公館校區', 'mday': '2025-02-15 09:59:16', 'ar': '臺大生化科技學系西側', 'sareaen': 'NTU Dist', 'snaen': 'YouBike2.0_NTU New Agricultural Chemistry Building(West)', 'aren': 'NTU Department of Biochemical Science and Technology(West)', 'act': '1', 'srcUpdateTime': '2025-02-15 10:04:21', 'updateTime': '2025-02-15 10:04:52', 'infoTime': '2025-02-15 09:59:16', 'infoDate': '2025-02-15', 'total': 10, 'available_rent_bikes': 0, 'latitude': 25.01627, 'longitude': 121.53535, 'available_return_bikes': 10}\n",
      "{'sno': '500119065', 'sna': 'YouBike2.0_臺大二號館', 'sarea': '臺大公館校區', 'mday': '2025-02-15 10:03:20', 'ar': '臺大物理文物廳北側', 'sareaen': 'NTU Dist', 'snaen': 'YouBike2.0_NTU Building No.2', 'aren': 'NTU Heritage Hall of Physics', 'act': '1', 'srcUpdateTime': '2025-02-15 10:04:21', 'updateTime': '2025-02-15 10:04:52', 'infoTime': '2025-02-15 10:03:20', 'infoDate': '2025-02-15', 'total': 10, 'available_rent_bikes': 0, 'latitude': 25.01699, 'longitude': 121.53574, 'available_return_bikes': 10}\n"
     ]
    }
   ],
   "source": [
    "for site in data:\n",
    "    if site['available_rent_bikes'] == 0:\n",
    "        print(site)"
   ]
  },
  {
   "cell_type": "code",
   "execution_count": 3,
   "metadata": {},
   "outputs": [
    {
     "name": "stdout",
     "output_type": "stream",
     "text": [
      "61\n",
      "YouBike2.0_溫州停車場\n",
      "YouBike2.0_和平龍泉街口\n",
      "YouBike2.0_捷運古亭站(5號出口)\n",
      "YouBike2.0_金杭公園\n",
      "YouBike2.0_昌隆公園\n",
      "YouBike2.0_懷生國中\n",
      "YouBike2.0_臺灣師範大學(浦城街)\n",
      "YouBike2.0_民權延平路口(西北側)\n",
      "YouBike2.0_南京太原路口\n",
      "YouBike2.0_南京西寧北路口(西北側)\n",
      "YouBike2.0_劍潭抽水站\n",
      "YouBike2.0_銘傳大學\n",
      "YouBike2.0_社子國小\n",
      "YouBike2.0_聖山綠地\n",
      "YouBike2.0_文林路101巷口\n",
      "YouBike2.0_海光公園南側\n",
      "YouBike2.0_天母東路8巷/忠誠路二段154巷口\n",
      "YouBike2.0_景美運動公園\n",
      "YouBike2.0_興得閱覽室\n",
      "YouBike2.0_木南公園\n",
      "YouBike2.0_捷運動物園站(2號出口)\n",
      "YouBike2.0_名門社區\n",
      "YouBike2.0_捷運古亭站(9號出口)\n",
      "YouBike2.0_和平重慶路口\n",
      "YouBike2.0_捷運小南門站(1號出口)\n",
      "YouBike2.0_林森徐州路口\n",
      "YouBike2.0_羅斯福寧波東街口\n",
      "YouBike2.0_捷運臺大醫院站(1號出口)\n",
      "YouBike2.0_捷運中正紀念堂站(2號出口)\n",
      "YouBike2.0_螢橋公園\n",
      "YouBike2.0_公館水岸廣場\n",
      "YouBike2.0_新生高架停車場(林森北路107巷口)\n",
      "YouBike2.0_中山北路二段59巷口\n",
      "YouBike2.0_興安合江路口\n",
      "YouBike2.0_復華公園\n",
      "YouBike2.0_敬業三樂群三路口(西北側)\n",
      "YouBike2.0_長春路258巷2弄口\n",
      "YouBike2.0_中崙加油站\n",
      "YouBike2.0_中正國小(南京東路三段48巷)\n",
      "YouBike2.0_文德二號公園(南側)\n",
      "YouBike2.0_碧湖公園(內湖路二段103巷)\n",
      "YouBike2.0_石潭公園(安康路)\n",
      "YouBike2.0_奇岩一號公園\n",
      "YouBike2.0_立功街55巷口\n",
      "YouBike2.0_石牌路二段324巷口\n",
      "YouBike2.0_泉源路23巷口\n",
      "YouBike2.0_三民路166巷口\n",
      "YouBike2.0_健康社會住宅\n",
      "YouBike2.0_延壽街119巷口\n",
      "YouBike2.0_寶清八德路口(北側)\n",
      "YouBike2.0_捷運南港軟體園區(2號出口)\n",
      "YouBike2.0_向陽南港路口(西北側)\n",
      "YouBike2.0_基隆路二段159巷口\n",
      "YouBike2.0_光復信義路口東南側\n",
      "YouBike2.0_松智松壽路口\n",
      "YouBike2.0_市府松壽路口\n",
      "YouBike2.0_協和祐德高級中學\n",
      "YouBike2.0_萬大路486巷口\n",
      "YouBike2.0_龍山國中\n",
      "YouBike2.0_臺大農化新館西側\n",
      "YouBike2.0_臺大二號館\n"
     ]
    }
   ],
   "source": [
    "def filter_func(n:dict):\n",
    "    return n['available_rent_bikes'] == 0\n",
    "\n",
    "zero_rent_bikes = list(filter(filter_func,data))\n",
    "print(len(zero_rent_bikes))\n",
    "for site in zero_rent_bikes:\n",
    "    print(site['sna'])"
   ]
  }
 ],
 "metadata": {
  "kernelspec": {
   "display_name": "Python 3",
   "language": "python",
   "name": "python3"
  },
  "language_info": {
   "codemirror_mode": {
    "name": "ipython",
    "version": 3
   },
   "file_extension": ".py",
   "mimetype": "text/x-python",
   "name": "python",
   "nbconvert_exporter": "python",
   "pygments_lexer": "ipython3",
   "version": "3.12.4"
  }
 },
 "nbformat": 4,
 "nbformat_minor": 2
}
