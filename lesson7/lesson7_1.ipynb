{
  "cells": [
    {
      "cell_type": "markdown",
      "metadata": {
        "colab_type": "text",
        "id": "view-in-github"
      },
      "source": [
        "<a href=\"https://colab.research.google.com/github/roberthsu2003/__2025_01_04_chihlee__/blob/main/lesson7_1.ipynb\" target=\"_parent\"><img src=\"https://colab.research.google.com/assets/colab-badge.svg\" alt=\"Open In Colab\"/></a>"
      ]
    },
    {
      "cell_type": "code",
      "execution_count": null,
      "metadata": {
        "colab": {
          "base_uri": "https://localhost:8080/"
        },
        "id": "7NduRyZWWqRk",
        "outputId": "b2cda5b1-5a5a-4fef-add1-e5e0644924bc"
      },
      "outputs": [],
      "source": [
        "!pip install requests bs4 pandas matplotlib wget"
      ]
    },
    {
      "cell_type": "code",
      "execution_count": null,
      "metadata": {
        "colab": {
          "base_uri": "https://localhost:8080/"
        },
        "id": "iUPsLhdtVesu",
        "outputId": "43270405-c691-448f-ed87-7ca45f47e4e6"
      },
      "outputs": [],
      "source": [
        "import requests\n",
        "from requests import Response\n",
        "url = 'https://rate.bot.com.tw/xrt?Lang=zh-TW'\n",
        "response = requests.get(url)\n",
        "print(response.text)"
      ]
    },
    {
      "cell_type": "code",
      "execution_count": null,
      "metadata": {
        "colab": {
          "base_uri": "https://localhost:8080/"
        },
        "id": "XYCwjeDkVx_4",
        "outputId": "9225a053-adff-4f57-8ea5-9dd9768c3f51"
      },
      "outputs": [],
      "source": [
        "from bs4 import BeautifulSoup\n",
        "from pprint import pprint\n",
        "soup = BeautifulSoup(response.text, 'html.parser')\n",
        "\n",
        "# 尋找帶有特定 title 屬性的表格\n",
        "rate_table = soup.find('table', {'title': '牌告匯率'})\n",
        "\n",
        "# 取得所有幣別和現金匯率資料\n",
        "currency_rows = rate_table.tbody.find_all('tr')\n",
        "\n",
        "rates:list[dict] = []\n",
        "\n",
        "for row in currency_rows:\n",
        "    currency_dict = {}\n",
        "    # 取行中的幣別資料\n",
        "    currency = row.find(\"td\", attrs={\"data-table\": \"幣別\"}).find(\"div\", class_=\"visible-phone\").text.strip()\n",
        "    currency_dict[\"幣別\"] = currency\n",
        "\n",
        "    # 取得即期買入匯率\n",
        "    currency_get = row.find(\"td\", attrs={\"data-table\": \"本行現金買入\"}).text.strip()\n",
        "    currency_dict[\"現金買入\"] = currency_get\n",
        "\n",
        "    # 取得即期賣出匯率\n",
        "    currency_send = row.find(\"td\", attrs={\"data-table\": \"本行現金賣出\"}).text.strip()\n",
        "    currency_dict[\"現金賣出\"] = currency_send\n",
        "\n",
        "    #print(f\"幣別: {currency}, 現金買入: {currency_get}, 現金賣出: {currency_send}\")\n",
        "    #print(\"-\" * 60)\n",
        "    rates.append(currency_dict)\n",
        "\n",
        "pprint(rates)"
      ]
    },
    {
      "cell_type": "code",
      "execution_count": null,
      "metadata": {
        "colab": {
          "base_uri": "https://localhost:8080/"
        },
        "id": "-Hg5zcR7V5O8",
        "outputId": "42506418-0196-424b-d30f-33968a614635"
      },
      "outputs": [],
      "source": [
        "def filter_func(item:dict)->bool:\n",
        "    if item[\"現金買入\"] == \"-\":\n",
        "        return False\n",
        "    else:\n",
        "        return True\n",
        "\n",
        "filtered_rates = list(filter(filter_func,rates))\n",
        "filtered_rates"
      ]
    },
    {
      "cell_type": "code",
      "execution_count": null,
      "metadata": {
        "colab": {
          "base_uri": "https://localhost:8080/"
        },
        "id": "Po-3hE0vV_r7",
        "outputId": "ec854aa0-4399-4bbc-a4af-54af24b88501"
      },
      "outputs": [],
      "source": [
        "def map_func(item:dict)->dict:\n",
        "    item[\"現金買入\"] = float(item[\"現金買入\"])\n",
        "    item[\"現金賣出\"] = float(item[\"現金賣出\"])\n",
        "    return item\n",
        "\n",
        "cleared_list= list(map(map_func,filtered_rates))\n",
        "cleared_list"
      ]
    },
    {
      "cell_type": "code",
      "execution_count": null,
      "metadata": {
        "colab": {
          "base_uri": "https://localhost:8080/",
          "height": 206
        },
        "id": "0BbShdQRWCWS",
        "outputId": "3c908d54-67a1-4d45-fd8e-1655337f641e"
      },
      "outputs": [],
      "source": [
        "import pandas as pd\n",
        "df = pd.DataFrame(cleared_list)\n",
        "df = df.sort_values(by=\"現金買入\",ascending=False)\n",
        "df.head()"
      ]
    },
    {
      "cell_type": "code",
      "execution_count": null,
      "metadata": {
        "colab": {
          "base_uri": "https://localhost:8080/",
          "height": 431
        },
        "id": "yXE472JwWLSl",
        "outputId": "e5d1f0f1-e114-4eea-f780-c3384d744dcd"
      },
      "outputs": [],
      "source": [
        "import matplotlib.pyplot as plt\n",
        "df['現金買入'].plot(kind='bar')\n",
        "plt.show()"
      ]
    },
    {
      "cell_type": "code",
      "execution_count": null,
      "metadata": {
        "colab": {
          "base_uri": "https://localhost:8080/",
          "height": 617
        },
        "id": "fTx0KcVpWVO8",
        "outputId": "af99f650-c9be-41f2-e09b-abed39e3f416"
      },
      "outputs": [],
      "source": [
        "df['幣別'].apply(lambda x: x.split()[-1])"
      ]
    },
    {
      "cell_type": "code",
      "execution_count": null,
      "metadata": {
        "colab": {
          "base_uri": "https://localhost:8080/",
          "height": 35
        },
        "id": "zkQdOG5bavMg",
        "outputId": "d0f254f4-8ea1-4dd5-8862-90e82a6a0cbf"
      },
      "outputs": [],
      "source": [
        "import wget\n",
        "wget.download('https://github.com/roberthsu2003/__2025_01_04_chihlee__/raw/refs/heads/main/ChineseFont.ttf')\n"
      ]
    },
    {
      "cell_type": "code",
      "execution_count": null,
      "metadata": {
        "colab": {
          "base_uri": "https://localhost:8080/",
          "height": 488
        },
        "id": "0FjT204wWXPI",
        "outputId": "372ff2f7-be7d-4cf4-f7b3-7267a6178723"
      },
      "outputs": [],
      "source": [
        "import matplotlib.pyplot as plt\n",
        "from matplotlib.font_manager import fontManager\n",
        "import matplotlib as mlp\n",
        "fontManager.addfont('ChineseFont.ttf')\n",
        "mlp.rc('font', family='ChineseFont')\n",
        "# 1.製作figure\n",
        "fig = plt.figure(figsize=(10, 5))\n",
        "ax_1 = fig.add_subplot(1, 1, 1)\n",
        "ax_1.bar(df['幣別'].apply(lambda x: x.split()[-1]),df['現金買入'])\n",
        "ax_1.set_title('貨幣買賣匯率')\n",
        "ax_1.set_xlabel('貨幣')\n",
        "ax_1.set_ylabel('匯率(NTD)')\n",
        "plt.show()"
      ]
    }
  ],
  "metadata": {
    "colab": {
      "authorship_tag": "ABX9TyNH7gxhrdSQULsWXri6k1ki",
      "include_colab_link": true,
      "provenance": []
    },
    "kernelspec": {
      "display_name": "Python 3",
      "name": "python3"
    },
    "language_info": {
      "name": "python"
    }
  },
  "nbformat": 4,
  "nbformat_minor": 0
}
